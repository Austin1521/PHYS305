{
 "cells": [
  {
   "cell_type": "markdown",
   "id": "0",
   "metadata": {},
   "source": [
    "# ODE Lab I: 4th-order Runge-Kutta Methods"
   ]
  },
  {
   "cell_type": "markdown",
   "id": "1",
   "metadata": {},
   "source": [
    "In this lab, we will study two different 4th-order Runge-Kutta (RK) methods and compare their performance on a simple test problem: the simple harmonic oscillator.\n",
    "We will:\n",
    "1. Review the classical RK4 method.\n",
    "2. Implement both the classical RK4 and the 3/8 method of Kutta (1901).\n",
    "3. Compare their numerical errors and observe the expected 4th-order convergence."
   ]
  },
  {
   "cell_type": "markdown",
   "id": "2",
   "metadata": {},
   "source": [
    "## Background"
   ]
  },
  {
   "cell_type": "markdown",
   "id": "3",
   "metadata": {},
   "source": [
    "### The Classical RK4 Method\n",
    "\n",
    "You have already seen in lecture that the 4th-order Runge-Kutta (RK4) method is a widely used time-integration scheme for ordinary differential equations (ODEs) of the form\n",
    "\\begin{align}\n",
    "\\frac{dX}{dt} = f(X, t), \\quad X(t_0) = X_0.\n",
    "\\end{align}"
   ]
  },
  {
   "cell_type": "markdown",
   "id": "4",
   "metadata": {},
   "source": [
    "At each step, we compute four \"slopes\":\n",
    "\\begin{align}\n",
    "k_1 &= \\Delta t \\, f(X_n, t_n) \\\\\n",
    "k_2 &= \\Delta t \\, f\\left(X_n + \\frac{1}{2}k_1, t_n + \\frac{1}{2}\\Delta t\\right) \\\\\n",
    "k_3 &= \\Delta t \\, f\\left(X_n + \\frac{1}{2}k_2, t_n + \\frac{1}{2}\\Delta t\\right) \\\\\n",
    "k_4 &= \\Delta t \\, f\\left(X_n + k_3, t_n + \\Delta t\\right)\n",
    "\\end{align}\n",
    "Then we update X_{n+1} according to:\n",
    "\\begin{align}\n",
    "X_{n+1} = X_n + \\frac{1}{6} k_1 + \\frac{1}{3} k_2 + \\frac{1}{3} k_3 + \\frac{1}{6} k_4.\n",
    "\\end{align}\n",
    "This scheme is fourth-order accurate, meaning the local truncation error is $\\mathcal{O}(\\Delta t^5)$, and the global error (error over an entire integration interval) behaves like $\\mathcal{O}(\\Delta t^4)$."
   ]
  },
  {
   "cell_type": "markdown",
   "id": "5",
   "metadata": {},
   "source": [
    "### The \"3/8\" Method (Kutta, 1901)\n",
    "\n",
    "An alternative set of coefficients yielding the same order of accuracy is:\n",
    "\\begin{align}\n",
    "k_1 &= \\Delta t \\, f(X_n, t_n) \\\\\n",
    "k_2 &= \\Delta t \\, f\\left(X_n + \\frac{1}{3}k_1, t_n + \\frac{1}{3}\\Delta t\\right) \\\\\n",
    "k_3 &= \\Delta t \\, f\\left(X_n + k_2 - \\frac{1}{3}k_1, t_n + \\frac{2}{3}\\Delta t\\right) \\\\\n",
    "k_4 &= \\Delta t \\, f\\left(X_n + k_3 - k_2 + k_1, t_n + \\Delta t\\right)\n",
    "\\end{align}\n",
    "with\n",
    "\\begin{align}\n",
    "X_{n+1} = X_n + \\frac{1}{8} k_1 + \\frac{3}{8} k_2 + \\frac{3}{8} k_3 + \\frac{1}{8} k_4.\n",
    "\\end{align}\n",
    "Again, this achieves fourth-order global accuracy despite having different coefficients than the more common RK4 method."
   ]
  },
  {
   "cell_type": "markdown",
   "id": "6",
   "metadata": {},
   "source": [
    "## Implementing the Methods in Python\n",
    "\n",
    "Below, you will find two Python functions: `RK4()` for the classical method, and `RK38()` for the 3/8 method.\n",
    "Both integrate an ODE\n",
    "\\begin{align}\n",
    "\\frac{d}{dt} \\begin{pmatrix} x_1 \\\\ x_2 \\\\ \\vdots \\end{pmatrix} = f\\bigl(x_1, x_2, \\ldots, t\\bigr),\n",
    "\\end{align}\n",
    "over $n$ steps, starting from an initial state $X$ at time $t$, with time step $dt$."
   ]
  },
  {
   "cell_type": "code",
   "execution_count": 1,
   "id": "7",
   "metadata": {},
   "outputs": [],
   "source": [
    "import numpy as np\n",
    "from matplotlib import pyplot as plt"
   ]
  },
  {
   "cell_type": "code",
   "execution_count": 2,
   "id": "8",
   "metadata": {},
   "outputs": [],
   "source": [
    "def RK4(f, x, t, dt, n):\n",
    "    \"\"\"\n",
    "    Integrate an ODE using the classical RK4 method.\n",
    "    \n",
    "    Parameters\n",
    "    ----------\n",
    "    f : function\n",
    "        The function f(x1, x2, ..., t) returning the derivative(s).\n",
    "    x : np.ndarray\n",
    "        The initial condition (can be scalar or vector).\n",
    "    t : float\n",
    "        The initial time.\n",
    "    dt : float\n",
    "        The time step.\n",
    "    n : int\n",
    "        Number of steps to take.\n",
    "    \n",
    "    Returns\n",
    "    -------\n",
    "    T : np.ndarray\n",
    "        Times at each integration step, of length n+1.\n",
    "    X : np.ndarray\n",
    "        Approximate solutions at each step, shape (n+1, len(x)).\n",
    "    \"\"\"\n",
    "    T = np.array(t)\n",
    "    X = np.array(x)\n",
    "    \n",
    "    for i in range(n):\n",
    "        k1 = dt * np.array(f(*(x         )))\n",
    "        k2 = dt * np.array(f(*(x + 0.5*k1)))\n",
    "        k3 = dt * np.array(f(*(x + 0.5*k2)))\n",
    "        k4 = dt * np.array(f(*(x +     k3)))\n",
    "        \n",
    "        t += dt\n",
    "        x += k1/6 + k2/3 + k3/3 + k4/6\n",
    "        \n",
    "        T = np.append( T, t)\n",
    "        X = np.vstack((X, x))\n",
    "        \n",
    "    return T, X"
   ]
  },
  {
   "cell_type": "code",
   "execution_count": 3,
   "id": "9",
   "metadata": {},
   "outputs": [],
   "source": [
    "def RK38(f, x, t, dt, n):\n",
    "    \"\"\"\n",
    "    Integrate an ODE using the 3/8 RK method (Kutta, 1901).\n",
    "    \n",
    "    Parameters\n",
    "    ----------\n",
    "    f : function\n",
    "        The function f(x1, x2, ..., t) returning the derivative(s).\n",
    "    x : np.ndarray\n",
    "        The initial condition (can be scalar or vector).\n",
    "    t : float\n",
    "        The initial time.\n",
    "    dt : float\n",
    "        The time step.\n",
    "    n : int\n",
    "        Number of steps to take.\n",
    "    \n",
    "    Returns\n",
    "    -------\n",
    "    T : np.ndarray\n",
    "        Times at each integration step, of length n+1.\n",
    "    X : np.ndarray\n",
    "        Approximate solutions at each step, shape (n+1, len(x)).\n",
    "    \"\"\"\n",
    "    T = np.array(t)\n",
    "    X = np.array(x)\n",
    "\n",
    "    for i in range(n):\n",
    "        k1 = dt * np.array(f(*(x         )))\n",
    "        k2 = dt * np.array(f(*(x + (1/3)*k1)))\n",
    "        k3 = dt * np.array(f(*(x + (1/3)*k2)))\n",
    "        k4 = dt * np.array(f(*(x +     k3)))\n",
    "\n",
    "        t += dt\n",
    "        x += k1/8 + 3*k2/8 + 3*k3/8 + k4/8\n",
    "        \n",
    "        T = np.append( T, t)\n",
    "        X = np.vstack((X, x))\n",
    "        \n",
    "    return T, X"
   ]
  },
  {
   "cell_type": "markdown",
   "id": "10",
   "metadata": {},
   "source": [
    "## Test Problem: Simple Harmonic Oscillator\n",
    "\n",
    "We will use the simple harmonic oscillator with small initial amplitude as our test ODE.\n",
    "Let\n",
    "\\begin{align}\n",
    "\\frac{d\\theta}{dt} = \\omega, \\quad \\frac{d\\omega}{dt} = -\\theta.\n",
    "\\end{align}"
   ]
  },
  {
   "cell_type": "markdown",
   "id": "11",
   "metadata": {},
   "source": [
    "If we start with $\\theta(0) = 0$ and $\\omega(0) = 0.01$, the exact solution is\n",
    "\\begin{align}\n",
    "\\theta(t) = 0.01 \\sin(t), \\quad \\omega(t) = 0.01 \\cos(t).\n",
    "\\end{align}"
   ]
  },
  {
   "cell_type": "code",
   "execution_count": 6,
   "id": "12",
   "metadata": {},
   "outputs": [],
   "source": [
    "def f_sh(theta, omega):\n",
    "    \"\"\"\n",
    "    Returns the RHS of the simple harmonic oscillator.\n",
    "    dtheta/dt = omega\n",
    "    domega/dt = -theta\n",
    "    \"\"\"\n",
    "    return 0.01*np.sin(theta)"
   ]
  },
  {
   "cell_type": "code",
   "execution_count": 7,
   "id": "13",
   "metadata": {},
   "outputs": [
    {
     "data": {
      "text/plain": [
       "[<matplotlib.lines.Line2D at 0x7ea6c855e3f0>]"
      ]
     },
     "execution_count": 7,
     "metadata": {},
     "output_type": "execute_result"
    },
    {
     "data": {
      "image/png": "[encoded data removed]",
      "text/plain": [
       "<Figure size 640x480 with 1 Axes>"
      ]
     },
     "metadata": {},
     "output_type": "display_data"
    }
   ],
   "source": [
    "T, X = RK4(f_sh, (0, 0.01), 0, 0.1, 100)\n",
    "\n",
    "Theta = X[:,0]\n",
    "Omega = X[:,1]\n",
    "\n",
    "plt.plot(T, 0.01*np.sin(T))\n",
    "plt.plot(T, Theta, 'o')"
   ]
  },
  {
   "cell_type": "markdown",
   "id": "14",
   "metadata": {},
   "source": [
    "## Measuring the Error\n",
    "\n",
    "For a given number of steps $N$ over a fixed time interval $t \\in [0, T_{\\max}]$, we have a time step $\\Delta t = T_\\max/N$.\n",
    "After computing the solution numerically, we compare it to the exact solution\n",
    "\\begin{align}\n",
    "\\theta_\\text{exact}(t_i) = 0.01 \\sin(t_i).\n",
    "\\end{align}\n",
    "We will measure the maximum absolute error in $\\theta$ (though you could also compare $\\omega$):\n",
    "\\begin{align}\n",
    "\\text{error} = \\max_i \\Bigl|\\theta_\\text{numeric}(t_i) - \\theta_\\text{exact}(t_i)\\Bigr|.\n",
    "\\end{align}\n",
    "We expect 4th-order methods to show an error scaling like $\\mathcal{O}(\\Delta t^4)$, so plotting on a log-log scale should reveal a slope of about -4."
   ]
  },
  {
   "cell_type": "markdown",
   "id": "15",
   "metadata": {},
   "source": [
    "1. Defines a function `error_RK4(N)` that runs `RK4()` with `N` steps and returns the maximum error in $\\theta$.\n",
    "2. Similarly defines `error_RK38(N)` for the 3/8 method.\n",
    "3. Compares both over a range of `N` values (e.g., 64, 128, 256, 512, 1024).\n",
    "4. Plots the results on a log-log scale, together with a reference line $\\propto N^{-4}$."
   ]
  },
  {
   "cell_type": "code",
   "execution_count": null,
   "id": "16",
   "metadata": {},
   "outputs": [],
   "source": [
    "def error_RK4(N=100):\n",
    "    pass\n",
    "\n",
    "def error_RK38(N=100):\n",
    "    pass\n",
    "\n",
    "N     = np.array([64, 128, 256, 512, 1024])\n",
    "ERK4  = np.array([error_RK4(n)  for n in N])\n",
    "ERK38 = np.array([error_RK38(n) for n in N])\n",
    "\n",
    "plt.loglog(N, 1/N**4,      label='1/N^4')\n",
    "plt.loglog(N, ERK4,  'o-', label='RK4')\n",
    "plt.loglog(N, ERK38, 'o:', label='RK38')\n",
    "plt.xlabel('N')\n",
    "plt.ylabel(r'$\\text{err} = max|x_\\text{numeric} - x|$')\n",
    "plt.legend()"
   ]
  }
 ],
 "metadata": {
  "kernelspec": {
   "display_name": "Python 3 (ipykernel)",
   "language": "python",
   "name": "python3"
  },
  "language_info": {
   "codemirror_mode": {
    "name": "ipython",
    "version": 3
   },
   "file_extension": ".py",
   "mimetype": "text/x-python",
   "name": "python",
   "nbconvert_exporter": "python",
   "pygments_lexer": "ipython3",
   "version": "3.12.1"
  }
 },
 "nbformat": 4,
 "nbformat_minor": 5
}
