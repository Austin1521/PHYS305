{
 "cells": [
  {
   "cell_type": "markdown",
   "id": "0",
   "metadata": {},
   "source": [
    "# Hands-On Lab: Distribution of Superluminal Velocities in Quasars"
   ]
  },
  {
   "cell_type": "markdown",
   "id": "1",
   "metadata": {},
   "source": [
    "In certain radio-loud quasars, astronomers observe apparent superluminal motion.\n",
    "I.e., jet components that appear to move *faster than light* in the plane of the sky.\n",
    "This effect is explained by relativistic beaming plus light-travel-time*geometry, not an actual violation of relativity.\n",
    "In this lab, you will:\n",
    "\n",
    "1. **Model** a population of quasar jets launched at speed $\\beta c$ in random directions.\n",
    "2. **Compute** each jet's apparent transverse velocity $\\beta' \\equiv v'/c$.\n",
    "3. **Compare** your empirical distribution of $\\beta'$ with a known theoretical result.\n",
    "4. **Estimate** mean values and build confidence intervals, tying in concepts from parameter estimation.\n",
    "5. **Explore** possible bias if only jets above some detection threshold are \"observed\".\n",
    "\n",
    "This exercise demonstrates how **random orientation** plus **relativistic speeds** yield \"superluminal\" expansions in a statistical sample, and how the distribution is theoretically predictable."
   ]
  },
  {
   "cell_type": "markdown",
   "id": "2",
   "metadata": {},
   "source": [
    "## Physical Recap\n",
    "\n",
    "A quasar jet moving at speed $v$ at an angle $\\theta$ to our line of sight can show apparent velocity:\n",
    "\\begin{align}\n",
    "v' &= \\frac{d_\\perp}{\\Delta t} = \\frac{v\\sin\\theta}{1 - (v/c)\\cos\\theta}\n",
    "\\end{align}\n",
    "Note that although a $v/c$ term appears in this expression, the eﬀect is not a relativistic eﬀect.\n",
    "It is just due to light delay and the viewing geometry.\n",
    "Let $\\beta = v/c$ and $\\beta' = v'/c$,\n",
    "\\begin{align}\n",
    "\\beta' &= \\frac{\\beta\\sin\\theta}{1 - \\beta\\cos\\theta}\n",
    "\\end{align}"
   ]
  },
  {
   "cell_type": "markdown",
   "id": "3",
   "metadata": {},
   "source": [
    "Note that the apparent transverse speed $\\beta'$ has a maximum value when\n",
    "\\begin{align}\n",
    "\\frac{\\partial\\beta'}{\\partial\\theta} = - \\frac{\\beta(\\beta-\\cos\\theta)}{(1 - \\beta\\cos\\theta)^2} = 0.\n",
    "\\end{align}\n",
    "Hence, $\\beta = \\cos\\theta$ at maximum.\n",
    "Define $\\gamma = (1 - \\beta^2)^{-1/2}$, we have $1/\\gamma = \\sin\\theta$ at the maximum.\n",
    "Therefore,\n",
    "\\begin{align}\n",
    "\\beta' = \\gamma\\beta\n",
    "\\end{align}\n",
    "where $\\gamma$ can be much larger than unity."
   ]
  },
  {
   "cell_type": "markdown",
   "id": "4",
   "metadata": {},
   "source": [
    "## Distribution\n",
    "\n",
    "Given a randomly oriented sample of radio sources, what is the distribution of $\\beta'$ if $\\beta$ is fixed?"
   ]
  },
  {
   "cell_type": "markdown",
   "id": "5",
   "metadata": {},
   "source": [
    "In a random 3D orientation scenario, we want uniform distribution over solid angle $d\\Omega = \\sin\\theta d\\theta d\\phi$.\n",
    "Integrate over $dphi$, it is clear that\n",
    "\\begin{align}\n",
    "p(\\theta) = \\sin\\theta \\quad 0 \\le \\theta \\le \\pi/2.\n",
    "\\end{align}\n",
    "The range is chosen because in standard models, the nucleus always eject blobs in two opposite directions.\n",
    "And we are modeling the one blob that travels toward the observator."
   ]
  },
  {
   "cell_type": "markdown",
   "id": "6",
   "metadata": {},
   "source": [
    "Therefore,\n",
    "\\begin{align}\n",
    "  p(\\beta') \n",
    "  &= p(\\theta) \\left|\\frac{d\\theta}{d\\beta'}\\right|\n",
    "   = p(\\theta) \\left|\\frac{d\\beta'}{d\\theta}\\right|^{-1} \\\\\n",
    "  &= \\frac{\\sin\\theta (1-\\beta\\cos\\theta)^2}{|\\beta\\cos\\theta - \\beta^2|}\n",
    "\\end{align}"
   ]
  },
  {
   "cell_type": "markdown",
   "id": "7",
   "metadata": {},
   "source": [
    "In the limit $\\beta\\to 1$, it is not to difficult to derive\n",
    "\\begin{align}\n",
    "  p(\\beta') &\\approx \\frac{4\\beta'}{(1 + \\beta'^2)^2} \\quad \\mbox{for} \\quad \\beta' \\ge 1.\n",
    "\\end{align}"
   ]
  },
  {
   "cell_type": "code",
   "execution_count": 1,
   "id": "8",
   "metadata": {},
   "outputs": [],
   "source": [
    "import numpy as np\n",
    "import matplotlib.pyplot as plt"
   ]
  },
  {
   "cell_type": "code",
   "execution_count": 19,
   "id": "9",
   "metadata": {},
   "outputs": [],
   "source": [
    "def distgen(beta, N=10_000):\n",
    "    # HANDSON: Random angles in [0, pi/2]: uniform in cos(theta)\n",
    "    gamma = 1/np.sqrt(1-beta*beta)\n",
    "    thetas = np.arccos(np.random.uniform(0, 1, size=N))\n",
    "\n",
    "    # HANDSON: Compute apparent velocity\n",
    "    sints = np.sin(thetas)\n",
    "    costs = np.cos(thetas)\n",
    "    betaps = (beta * sints) / (1.0 - beta * costs)\n",
    "    deltas = (1.0 / gamma) / (1.0 - beta * costs)\n",
    "\n",
    "    return betaps"
   ]
  },
  {
   "cell_type": "code",
   "execution_count": 20,
   "id": "10",
   "metadata": {},
   "outputs": [],
   "source": [
    "# HANDSON: implement the superluminal motion equation\n",
    "# and confirm the approximated distribution is good for `betap >= 1`.\n",
    "\n",
    "def mkplot(ax, beta, N=10_000):\n",
    "    betaps = distgen(beta, N)\n",
    "\n",
    "    # HANDSON: Empirical histogram\n",
    "    plt.hist(betaps)\n",
    "\n",
    "    # HANDSON: Print statistics\n",
    "    avg_betap = np.mean(betaps, axis=1)\n",
    "    std_betap = np.std(betaps, ddof=1)\n",
    "    print(\"Average = \", avg_betap)\n",
    "    print(\"Standard Deviation = \", std_betap)\n",
    "\n",
    "    print(f\"Mean of beta': {avg_betap:.3f}, std: {std_betap:.3f}\")"
   ]
  },
  {
   "cell_type": "code",
   "execution_count": 21,
   "id": "11",
   "metadata": {},
   "outputs": [
    {
     "ename": "AxisError",
     "evalue": "axis 1 is out of bounds for array of dimension 1",
     "output_type": "error",
     "traceback": [
      "\u001b[0;31m---------------------------------------------------------------------------\u001b[0m",
      "\u001b[0;31mAxisError\u001b[0m                                 Traceback (most recent call last)",
      "Cell \u001b[0;32mIn[21], line 4\u001b[0m\n\u001b[1;32m      1\u001b[0m fig, ax \u001b[38;5;241m=\u001b[39m plt\u001b[38;5;241m.\u001b[39msubplots(\u001b[38;5;241m1\u001b[39m,\u001b[38;5;241m1\u001b[39m, figsize\u001b[38;5;241m=\u001b[39m(\u001b[38;5;241m6\u001b[39m,\u001b[38;5;241m4\u001b[39m))\n\u001b[1;32m      3\u001b[0m \u001b[38;5;66;03m# HANDSON: change beta and study the resulting distribution\u001b[39;00m\n\u001b[0;32m----> 4\u001b[0m \u001b[43mmkplot\u001b[49m\u001b[43m(\u001b[49m\u001b[43max\u001b[49m\u001b[43m,\u001b[49m\u001b[43m \u001b[49m\u001b[43mbeta\u001b[49m\u001b[38;5;241;43m=\u001b[39;49m\u001b[38;5;241;43m0.9\u001b[39;49m\u001b[43m)\u001b[49m\n\u001b[1;32m      5\u001b[0m mkplot(ax, beta\u001b[38;5;241m=\u001b[39m\u001b[38;5;241m0.99\u001b[39m)\n\u001b[1;32m      6\u001b[0m mkplot(ax, beta\u001b[38;5;241m=\u001b[39m\u001b[38;5;241m0.999\u001b[39m)\n",
      "Cell \u001b[0;32mIn[20], line 11\u001b[0m, in \u001b[0;36mmkplot\u001b[0;34m(ax, beta, N)\u001b[0m\n\u001b[1;32m      8\u001b[0m plt\u001b[38;5;241m.\u001b[39mhist(betaps)\n\u001b[1;32m     10\u001b[0m \u001b[38;5;66;03m# HANDSON: Print statistics\u001b[39;00m\n\u001b[0;32m---> 11\u001b[0m avg_betap \u001b[38;5;241m=\u001b[39m \u001b[43mnp\u001b[49m\u001b[38;5;241;43m.\u001b[39;49m\u001b[43mmean\u001b[49m\u001b[43m(\u001b[49m\u001b[43mbetaps\u001b[49m\u001b[43m,\u001b[49m\u001b[43m \u001b[49m\u001b[43maxis\u001b[49m\u001b[38;5;241;43m=\u001b[39;49m\u001b[38;5;241;43m1\u001b[39;49m\u001b[43m)\u001b[49m\n\u001b[1;32m     12\u001b[0m std_betap \u001b[38;5;241m=\u001b[39m np\u001b[38;5;241m.\u001b[39mstd(betaps, ddof\u001b[38;5;241m=\u001b[39m\u001b[38;5;241m1\u001b[39m)\n\u001b[1;32m     13\u001b[0m \u001b[38;5;28mprint\u001b[39m(\u001b[38;5;124m\"\u001b[39m\u001b[38;5;124mAverage = \u001b[39m\u001b[38;5;124m\"\u001b[39m, avg_betap)\n",
      "File \u001b[0;32m~/.local/lib/python3.12/site-packages/numpy/_core/fromnumeric.py:3860\u001b[0m, in \u001b[0;36mmean\u001b[0;34m(a, axis, dtype, out, keepdims, where)\u001b[0m\n\u001b[1;32m   3857\u001b[0m     \u001b[38;5;28;01melse\u001b[39;00m:\n\u001b[1;32m   3858\u001b[0m         \u001b[38;5;28;01mreturn\u001b[39;00m mean(axis\u001b[38;5;241m=\u001b[39maxis, dtype\u001b[38;5;241m=\u001b[39mdtype, out\u001b[38;5;241m=\u001b[39mout, \u001b[38;5;241m*\u001b[39m\u001b[38;5;241m*\u001b[39mkwargs)\n\u001b[0;32m-> 3860\u001b[0m \u001b[38;5;28;01mreturn\u001b[39;00m \u001b[43m_methods\u001b[49m\u001b[38;5;241;43m.\u001b[39;49m\u001b[43m_mean\u001b[49m\u001b[43m(\u001b[49m\u001b[43ma\u001b[49m\u001b[43m,\u001b[49m\u001b[43m \u001b[49m\u001b[43maxis\u001b[49m\u001b[38;5;241;43m=\u001b[39;49m\u001b[43maxis\u001b[49m\u001b[43m,\u001b[49m\u001b[43m \u001b[49m\u001b[43mdtype\u001b[49m\u001b[38;5;241;43m=\u001b[39;49m\u001b[43mdtype\u001b[49m\u001b[43m,\u001b[49m\n\u001b[1;32m   3861\u001b[0m \u001b[43m                      \u001b[49m\u001b[43mout\u001b[49m\u001b[38;5;241;43m=\u001b[39;49m\u001b[43mout\u001b[49m\u001b[43m,\u001b[49m\u001b[43m \u001b[49m\u001b[38;5;241;43m*\u001b[39;49m\u001b[38;5;241;43m*\u001b[39;49m\u001b[43mkwargs\u001b[49m\u001b[43m)\u001b[49m\n",
      "File \u001b[0;32m~/.local/lib/python3.12/site-packages/numpy/_core/_methods.py:123\u001b[0m, in \u001b[0;36m_mean\u001b[0;34m(a, axis, dtype, out, keepdims, where)\u001b[0m\n\u001b[1;32m    119\u001b[0m arr \u001b[38;5;241m=\u001b[39m asanyarray(a)\n\u001b[1;32m    121\u001b[0m is_float16_result \u001b[38;5;241m=\u001b[39m \u001b[38;5;28;01mFalse\u001b[39;00m\n\u001b[0;32m--> 123\u001b[0m rcount \u001b[38;5;241m=\u001b[39m \u001b[43m_count_reduce_items\u001b[49m\u001b[43m(\u001b[49m\u001b[43marr\u001b[49m\u001b[43m,\u001b[49m\u001b[43m \u001b[49m\u001b[43maxis\u001b[49m\u001b[43m,\u001b[49m\u001b[43m \u001b[49m\u001b[43mkeepdims\u001b[49m\u001b[38;5;241;43m=\u001b[39;49m\u001b[43mkeepdims\u001b[49m\u001b[43m,\u001b[49m\u001b[43m \u001b[49m\u001b[43mwhere\u001b[49m\u001b[38;5;241;43m=\u001b[39;49m\u001b[43mwhere\u001b[49m\u001b[43m)\u001b[49m\n\u001b[1;32m    124\u001b[0m \u001b[38;5;28;01mif\u001b[39;00m rcount \u001b[38;5;241m==\u001b[39m \u001b[38;5;241m0\u001b[39m \u001b[38;5;28;01mif\u001b[39;00m where \u001b[38;5;129;01mis\u001b[39;00m \u001b[38;5;28;01mTrue\u001b[39;00m \u001b[38;5;28;01melse\u001b[39;00m umr_any(rcount \u001b[38;5;241m==\u001b[39m \u001b[38;5;241m0\u001b[39m, axis\u001b[38;5;241m=\u001b[39m\u001b[38;5;28;01mNone\u001b[39;00m):\n\u001b[1;32m    125\u001b[0m     warnings\u001b[38;5;241m.\u001b[39mwarn(\u001b[38;5;124m\"\u001b[39m\u001b[38;5;124mMean of empty slice.\u001b[39m\u001b[38;5;124m\"\u001b[39m, \u001b[38;5;167;01mRuntimeWarning\u001b[39;00m, stacklevel\u001b[38;5;241m=\u001b[39m\u001b[38;5;241m2\u001b[39m)\n",
      "File \u001b[0;32m~/.local/lib/python3.12/site-packages/numpy/_core/_methods.py:86\u001b[0m, in \u001b[0;36m_count_reduce_items\u001b[0;34m(arr, axis, keepdims, where)\u001b[0m\n\u001b[1;32m     84\u001b[0m     items \u001b[38;5;241m=\u001b[39m \u001b[38;5;241m1\u001b[39m\n\u001b[1;32m     85\u001b[0m     \u001b[38;5;28;01mfor\u001b[39;00m ax \u001b[38;5;129;01min\u001b[39;00m axis:\n\u001b[0;32m---> 86\u001b[0m         items \u001b[38;5;241m*\u001b[39m\u001b[38;5;241m=\u001b[39m arr\u001b[38;5;241m.\u001b[39mshape[\u001b[43mmu\u001b[49m\u001b[38;5;241;43m.\u001b[39;49m\u001b[43mnormalize_axis_index\u001b[49m\u001b[43m(\u001b[49m\u001b[43max\u001b[49m\u001b[43m,\u001b[49m\u001b[43m \u001b[49m\u001b[43marr\u001b[49m\u001b[38;5;241;43m.\u001b[39;49m\u001b[43mndim\u001b[49m\u001b[43m)\u001b[49m]\n\u001b[1;32m     87\u001b[0m     items \u001b[38;5;241m=\u001b[39m nt\u001b[38;5;241m.\u001b[39mintp(items)\n\u001b[1;32m     88\u001b[0m \u001b[38;5;28;01melse\u001b[39;00m:\n\u001b[1;32m     89\u001b[0m     \u001b[38;5;66;03m# TODO: Optimize case when `where` is broadcast along a non-reduction\u001b[39;00m\n\u001b[1;32m     90\u001b[0m     \u001b[38;5;66;03m# axis and full sum is more excessive than needed.\u001b[39;00m\n\u001b[1;32m     91\u001b[0m \n\u001b[1;32m     92\u001b[0m     \u001b[38;5;66;03m# guarded to protect circular imports\u001b[39;00m\n",
      "\u001b[0;31mAxisError\u001b[0m: axis 1 is out of bounds for array of dimension 1"
     ]
    },
    {
     "data": {
      "image/png": "[encoded data removed]",
      "text/plain": [
       "<Figure size 600x400 with 1 Axes>"
      ]
     },
     "metadata": {},
     "output_type": "display_data"
    }
   ],
   "source": [
    "fig, ax = plt.subplots(1,1, figsize=(6,4))\n",
    "\n",
    "# HANDSON: change beta and study the resulting distribution\n",
    "mkplot(ax, beta=0.9)\n",
    "mkplot(ax, beta=0.99)\n",
    "mkplot(ax, beta=0.999)\n",
    "\n",
    "# HANDSON: overplot the approximated distribution\n",
    "pass\n",
    "ax.plot(betap, pbetap, label='analytical')\n",
    "\n",
    "ax.legend()\n",
    "ax.set_ylabel(r\"$p(\\beta')$\")\n",
    "ax.set_xlabel(r\"$\\beta'$\")\n",
    "ax.set_xlim(0, 10)\n",
    "ax.set_ylim(0, 1.5)"
   ]
  },
  {
   "cell_type": "markdown",
   "id": "12",
   "metadata": {},
   "source": [
    "Interpretation\n",
    "* A significant fraction of $\\beta'$ may exceed 1, giving the illusion of faster than light motion.\n",
    "* Increasing $\\beta$ (closer to 1) pushes more of the distribution to higher $\\beta'$."
   ]
  }
 ],
 "metadata": {
  "kernelspec": {
   "display_name": "Python 3 (ipykernel)",
   "language": "python",
   "name": "python3"
  },
  "language_info": {
   "codemirror_mode": {
    "name": "ipython",
    "version": 3
   },
   "file_extension": ".py",
   "mimetype": "text/x-python",
   "name": "python",
   "nbconvert_exporter": "python",
   "pygments_lexer": "ipython3",
   "version": "3.12.1"
  }
 },
 "nbformat": 4,
 "nbformat_minor": 5
}
